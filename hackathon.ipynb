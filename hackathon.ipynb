{
 "cells": [
  {
   "cell_type": "code",
   "execution_count": 1,
   "id": "11d82a70",
   "metadata": {},
   "outputs": [],
   "source": [
    "import numpy as np\n",
    "import pandas as pd\n",
    "import matplotlib.pyplot as plt\n",
    "import seaborn as sns\n",
    "sns.set_theme()\n",
    "\n",
    "from sklearn.model_selection import train_test_split\n",
    "\n",
    "from sklearn.linear_model import LogisticRegression\n",
    "\n",
    "from sklearn import metrics\n",
    "from sklearn.metrics import confusion_matrix, classification_report,accuracy_score,precision_score,recall_score,f1_score\n",
    "\n",
    "from sklearn import tree\n",
    "from sklearn.tree import DecisionTreeClassifier\n",
    "\n",
    "from sklearn.ensemble import BaggingClassifier\n",
    "from sklearn.ensemble import RandomForestClassifier\n",
    "\n",
    "import scipy.stats as stats\n",
    "\n",
    "from sklearn.model_selection import GridSearchCV\n",
    "\n",
    "\n",
    "import warnings\n",
    "warnings.filterwarnings('ignore')"
   ]
  },
  {
   "cell_type": "code",
   "execution_count": 2,
   "id": "bd6556ec",
   "metadata": {},
   "outputs": [],
   "source": [
    "#importing datasets\n",
    "travel_train = pd.read_csv('Traveldata_train.csv')\n",
    "survey_train = pd.read_csv('Surveydata_train.csv')\n",
    "travel_test = pd.read_csv('Traveldata_test.csv')\n",
    "survey_test = pd.read_csv('Surveydata_test.csv')"
   ]
  },
  {
   "cell_type": "code",
   "execution_count": 3,
   "id": "76739884",
   "metadata": {},
   "outputs": [
    {
     "data": {
      "text/html": [
       "<div>\n",
       "<style scoped>\n",
       "    .dataframe tbody tr th:only-of-type {\n",
       "        vertical-align: middle;\n",
       "    }\n",
       "\n",
       "    .dataframe tbody tr th {\n",
       "        vertical-align: top;\n",
       "    }\n",
       "\n",
       "    .dataframe thead th {\n",
       "        text-align: right;\n",
       "    }\n",
       "</style>\n",
       "<table border=\"1\" class=\"dataframe\">\n",
       "  <thead>\n",
       "    <tr style=\"text-align: right;\">\n",
       "      <th></th>\n",
       "      <th>ID</th>\n",
       "      <th>Gender</th>\n",
       "      <th>Customer_Type</th>\n",
       "      <th>Age</th>\n",
       "      <th>Type_Travel</th>\n",
       "      <th>Travel_Class</th>\n",
       "      <th>Travel_Distance</th>\n",
       "      <th>Departure_Delay_in_Mins</th>\n",
       "      <th>Arrival_Delay_in_Mins</th>\n",
       "    </tr>\n",
       "  </thead>\n",
       "  <tbody>\n",
       "    <tr>\n",
       "      <th>0</th>\n",
       "      <td>98800001</td>\n",
       "      <td>Female</td>\n",
       "      <td>Loyal Customer</td>\n",
       "      <td>52.0</td>\n",
       "      <td>NaN</td>\n",
       "      <td>Business</td>\n",
       "      <td>272</td>\n",
       "      <td>0.0</td>\n",
       "      <td>5.0</td>\n",
       "    </tr>\n",
       "    <tr>\n",
       "      <th>1</th>\n",
       "      <td>98800002</td>\n",
       "      <td>Male</td>\n",
       "      <td>Loyal Customer</td>\n",
       "      <td>48.0</td>\n",
       "      <td>Personal Travel</td>\n",
       "      <td>Eco</td>\n",
       "      <td>2200</td>\n",
       "      <td>9.0</td>\n",
       "      <td>0.0</td>\n",
       "    </tr>\n",
       "    <tr>\n",
       "      <th>2</th>\n",
       "      <td>98800003</td>\n",
       "      <td>Female</td>\n",
       "      <td>Loyal Customer</td>\n",
       "      <td>43.0</td>\n",
       "      <td>Business Travel</td>\n",
       "      <td>Business</td>\n",
       "      <td>1061</td>\n",
       "      <td>77.0</td>\n",
       "      <td>119.0</td>\n",
       "    </tr>\n",
       "    <tr>\n",
       "      <th>3</th>\n",
       "      <td>98800004</td>\n",
       "      <td>Female</td>\n",
       "      <td>Loyal Customer</td>\n",
       "      <td>44.0</td>\n",
       "      <td>Business Travel</td>\n",
       "      <td>Business</td>\n",
       "      <td>780</td>\n",
       "      <td>13.0</td>\n",
       "      <td>18.0</td>\n",
       "    </tr>\n",
       "    <tr>\n",
       "      <th>4</th>\n",
       "      <td>98800005</td>\n",
       "      <td>Female</td>\n",
       "      <td>Loyal Customer</td>\n",
       "      <td>50.0</td>\n",
       "      <td>Business Travel</td>\n",
       "      <td>Business</td>\n",
       "      <td>1981</td>\n",
       "      <td>0.0</td>\n",
       "      <td>0.0</td>\n",
       "    </tr>\n",
       "  </tbody>\n",
       "</table>\n",
       "</div>"
      ],
      "text/plain": [
       "         ID  Gender   Customer_Type   Age      Type_Travel Travel_Class  \\\n",
       "0  98800001  Female  Loyal Customer  52.0              NaN     Business   \n",
       "1  98800002    Male  Loyal Customer  48.0  Personal Travel          Eco   \n",
       "2  98800003  Female  Loyal Customer  43.0  Business Travel     Business   \n",
       "3  98800004  Female  Loyal Customer  44.0  Business Travel     Business   \n",
       "4  98800005  Female  Loyal Customer  50.0  Business Travel     Business   \n",
       "\n",
       "   Travel_Distance  Departure_Delay_in_Mins  Arrival_Delay_in_Mins  \n",
       "0              272                      0.0                    5.0  \n",
       "1             2200                      9.0                    0.0  \n",
       "2             1061                     77.0                  119.0  \n",
       "3              780                     13.0                   18.0  \n",
       "4             1981                      0.0                    0.0  "
      ]
     },
     "execution_count": 3,
     "metadata": {},
     "output_type": "execute_result"
    }
   ],
   "source": [
    "travel_train.head()\n"
   ]
  },
  {
   "cell_type": "code",
   "execution_count": 4,
   "id": "c32044a6",
   "metadata": {},
   "outputs": [
    {
     "data": {
      "text/html": [
       "<div>\n",
       "<style scoped>\n",
       "    .dataframe tbody tr th:only-of-type {\n",
       "        vertical-align: middle;\n",
       "    }\n",
       "\n",
       "    .dataframe tbody tr th {\n",
       "        vertical-align: top;\n",
       "    }\n",
       "\n",
       "    .dataframe thead th {\n",
       "        text-align: right;\n",
       "    }\n",
       "</style>\n",
       "<table border=\"1\" class=\"dataframe\">\n",
       "  <thead>\n",
       "    <tr style=\"text-align: right;\">\n",
       "      <th></th>\n",
       "      <th>ID</th>\n",
       "      <th>Overall_Experience</th>\n",
       "      <th>Seat_Comfort</th>\n",
       "      <th>Seat_Class</th>\n",
       "      <th>Arrival_Time_Convenient</th>\n",
       "      <th>Catering</th>\n",
       "      <th>Platform_Location</th>\n",
       "      <th>Onboard_Wifi_Service</th>\n",
       "      <th>Onboard_Entertainment</th>\n",
       "      <th>Online_Support</th>\n",
       "      <th>Ease_of_Online_Booking</th>\n",
       "      <th>Onboard_Service</th>\n",
       "      <th>Legroom</th>\n",
       "      <th>Baggage_Handling</th>\n",
       "      <th>CheckIn_Service</th>\n",
       "      <th>Cleanliness</th>\n",
       "      <th>Online_Boarding</th>\n",
       "    </tr>\n",
       "  </thead>\n",
       "  <tbody>\n",
       "    <tr>\n",
       "      <th>0</th>\n",
       "      <td>98800001</td>\n",
       "      <td>0</td>\n",
       "      <td>Needs Improvement</td>\n",
       "      <td>Green Car</td>\n",
       "      <td>Excellent</td>\n",
       "      <td>Excellent</td>\n",
       "      <td>Very Convenient</td>\n",
       "      <td>Good</td>\n",
       "      <td>Needs Improvement</td>\n",
       "      <td>Acceptable</td>\n",
       "      <td>Needs Improvement</td>\n",
       "      <td>Needs Improvement</td>\n",
       "      <td>Acceptable</td>\n",
       "      <td>Needs Improvement</td>\n",
       "      <td>Good</td>\n",
       "      <td>Needs Improvement</td>\n",
       "      <td>Poor</td>\n",
       "    </tr>\n",
       "    <tr>\n",
       "      <th>1</th>\n",
       "      <td>98800002</td>\n",
       "      <td>0</td>\n",
       "      <td>Poor</td>\n",
       "      <td>Ordinary</td>\n",
       "      <td>Excellent</td>\n",
       "      <td>Poor</td>\n",
       "      <td>Needs Improvement</td>\n",
       "      <td>Good</td>\n",
       "      <td>Poor</td>\n",
       "      <td>Good</td>\n",
       "      <td>Good</td>\n",
       "      <td>Excellent</td>\n",
       "      <td>Needs Improvement</td>\n",
       "      <td>Poor</td>\n",
       "      <td>Needs Improvement</td>\n",
       "      <td>Good</td>\n",
       "      <td>Good</td>\n",
       "    </tr>\n",
       "    <tr>\n",
       "      <th>2</th>\n",
       "      <td>98800003</td>\n",
       "      <td>1</td>\n",
       "      <td>Needs Improvement</td>\n",
       "      <td>Green Car</td>\n",
       "      <td>Needs Improvement</td>\n",
       "      <td>Needs Improvement</td>\n",
       "      <td>Needs Improvement</td>\n",
       "      <td>Needs Improvement</td>\n",
       "      <td>Good</td>\n",
       "      <td>Excellent</td>\n",
       "      <td>Excellent</td>\n",
       "      <td>Excellent</td>\n",
       "      <td>Excellent</td>\n",
       "      <td>Excellent</td>\n",
       "      <td>Good</td>\n",
       "      <td>Excellent</td>\n",
       "      <td>Excellent</td>\n",
       "    </tr>\n",
       "    <tr>\n",
       "      <th>3</th>\n",
       "      <td>98800004</td>\n",
       "      <td>0</td>\n",
       "      <td>Acceptable</td>\n",
       "      <td>Ordinary</td>\n",
       "      <td>Needs Improvement</td>\n",
       "      <td>NaN</td>\n",
       "      <td>Needs Improvement</td>\n",
       "      <td>Acceptable</td>\n",
       "      <td>Needs Improvement</td>\n",
       "      <td>Acceptable</td>\n",
       "      <td>Acceptable</td>\n",
       "      <td>Acceptable</td>\n",
       "      <td>Acceptable</td>\n",
       "      <td>Acceptable</td>\n",
       "      <td>Good</td>\n",
       "      <td>Acceptable</td>\n",
       "      <td>Acceptable</td>\n",
       "    </tr>\n",
       "    <tr>\n",
       "      <th>4</th>\n",
       "      <td>98800005</td>\n",
       "      <td>1</td>\n",
       "      <td>Acceptable</td>\n",
       "      <td>Ordinary</td>\n",
       "      <td>Acceptable</td>\n",
       "      <td>Acceptable</td>\n",
       "      <td>Manageable</td>\n",
       "      <td>Needs Improvement</td>\n",
       "      <td>Good</td>\n",
       "      <td>Excellent</td>\n",
       "      <td>Good</td>\n",
       "      <td>Good</td>\n",
       "      <td>Good</td>\n",
       "      <td>Good</td>\n",
       "      <td>Good</td>\n",
       "      <td>Good</td>\n",
       "      <td>Good</td>\n",
       "    </tr>\n",
       "  </tbody>\n",
       "</table>\n",
       "</div>"
      ],
      "text/plain": [
       "         ID  Overall_Experience       Seat_Comfort Seat_Class  \\\n",
       "0  98800001                   0  Needs Improvement  Green Car   \n",
       "1  98800002                   0               Poor   Ordinary   \n",
       "2  98800003                   1  Needs Improvement  Green Car   \n",
       "3  98800004                   0         Acceptable   Ordinary   \n",
       "4  98800005                   1         Acceptable   Ordinary   \n",
       "\n",
       "  Arrival_Time_Convenient           Catering  Platform_Location  \\\n",
       "0               Excellent          Excellent    Very Convenient   \n",
       "1               Excellent               Poor  Needs Improvement   \n",
       "2       Needs Improvement  Needs Improvement  Needs Improvement   \n",
       "3       Needs Improvement                NaN  Needs Improvement   \n",
       "4              Acceptable         Acceptable         Manageable   \n",
       "\n",
       "  Onboard_Wifi_Service Onboard_Entertainment Online_Support  \\\n",
       "0                 Good     Needs Improvement     Acceptable   \n",
       "1                 Good                  Poor           Good   \n",
       "2    Needs Improvement                  Good      Excellent   \n",
       "3           Acceptable     Needs Improvement     Acceptable   \n",
       "4    Needs Improvement                  Good      Excellent   \n",
       "\n",
       "  Ease_of_Online_Booking    Onboard_Service            Legroom  \\\n",
       "0      Needs Improvement  Needs Improvement         Acceptable   \n",
       "1                   Good          Excellent  Needs Improvement   \n",
       "2              Excellent          Excellent          Excellent   \n",
       "3             Acceptable         Acceptable         Acceptable   \n",
       "4                   Good               Good               Good   \n",
       "\n",
       "    Baggage_Handling    CheckIn_Service        Cleanliness Online_Boarding  \n",
       "0  Needs Improvement               Good  Needs Improvement            Poor  \n",
       "1               Poor  Needs Improvement               Good            Good  \n",
       "2          Excellent               Good          Excellent       Excellent  \n",
       "3         Acceptable               Good         Acceptable      Acceptable  \n",
       "4               Good               Good               Good            Good  "
      ]
     },
     "execution_count": 4,
     "metadata": {},
     "output_type": "execute_result"
    }
   ],
   "source": [
    "survey_train.head()\n"
   ]
  },
  {
   "cell_type": "code",
   "execution_count": 5,
   "id": "5a5b2821",
   "metadata": {},
   "outputs": [],
   "source": [
    "#merging two dataset into one\n",
    "train_df = travel_train.merge(survey_train, on = 'ID')\n",
    "test_df = travel_test.merge(survey_test, on = 'ID')"
   ]
  },
  {
   "cell_type": "code",
   "execution_count": 6,
   "id": "ce54f10b",
   "metadata": {},
   "outputs": [],
   "source": [
    "#arranging train_df columns\n",
    "train_col = train_df.columns.tolist()\n",
    "train_col = ['ID',\n",
    " 'Gender',\n",
    " 'Customer_Type',\n",
    " 'Age',\n",
    " 'Type_Travel',\n",
    " 'Travel_Class',\n",
    " 'Travel_Distance',\n",
    " 'Departure_Delay_in_Mins',\n",
    " 'Arrival_Delay_in_Mins',\n",
    " 'Seat_Comfort',\n",
    " 'Seat_Class',\n",
    " 'Arrival_Time_Convenient',\n",
    " 'Catering',\n",
    " 'Platform_Location',\n",
    " 'Onboard_Wifi_Service',\n",
    " 'Onboard_Entertainment',\n",
    " 'Online_Support',\n",
    " 'Ease_of_Online_Booking',\n",
    " 'Onboard_Service',\n",
    " 'Legroom',\n",
    " 'Baggage_Handling',\n",
    " 'CheckIn_Service',\n",
    " 'Cleanliness',\n",
    " 'Online_Boarding',\n",
    " 'Overall_Experience']\n",
    "train_df = train_df[train_col]"
   ]
  },
  {
   "cell_type": "code",
   "execution_count": 7,
   "id": "76d9e3ac",
   "metadata": {},
   "outputs": [
    {
     "data": {
      "text/plain": [
       "['ID',\n",
       " 'Gender',\n",
       " 'Customer_Type',\n",
       " 'Age',\n",
       " 'Type_Travel',\n",
       " 'Travel_Class',\n",
       " 'Travel_Distance',\n",
       " 'Departure_Delay_in_Mins',\n",
       " 'Arrival_Delay_in_Mins',\n",
       " 'Seat_Comfort',\n",
       " 'Seat_Class',\n",
       " 'Arrival_Time_Convenient',\n",
       " 'Catering',\n",
       " 'Platform_Location',\n",
       " 'Onboard_Wifi_Service',\n",
       " 'Onboard_Entertainment',\n",
       " 'Online_Support',\n",
       " 'Ease_of_Online_Booking',\n",
       " 'Onboard_Service',\n",
       " 'Legroom',\n",
       " 'Baggage_Handling',\n",
       " 'CheckIn_Service',\n",
       " 'Cleanliness',\n",
       " 'Online_Boarding',\n",
       " 'Overall_Experience']"
      ]
     },
     "execution_count": 7,
     "metadata": {},
     "output_type": "execute_result"
    }
   ],
   "source": [
    "#arranging test df columns\n",
    "test_df['Overall_Experience'] = 'a'\n",
    "test_col = test_df.columns.tolist()\n",
    "test_col"
   ]
  },
  {
   "cell_type": "code",
   "execution_count": 8,
   "id": "d97337f6",
   "metadata": {},
   "outputs": [],
   "source": [
    "#concating  training and testing set\n",
    "df = pd.concat([train_df, test_df])"
   ]
  },
  {
   "cell_type": "code",
   "execution_count": 9,
   "id": "e0ffd1e1",
   "metadata": {},
   "outputs": [
    {
     "data": {
      "text/html": [
       "<div>\n",
       "<style scoped>\n",
       "    .dataframe tbody tr th:only-of-type {\n",
       "        vertical-align: middle;\n",
       "    }\n",
       "\n",
       "    .dataframe tbody tr th {\n",
       "        vertical-align: top;\n",
       "    }\n",
       "\n",
       "    .dataframe thead th {\n",
       "        text-align: right;\n",
       "    }\n",
       "</style>\n",
       "<table border=\"1\" class=\"dataframe\">\n",
       "  <thead>\n",
       "    <tr style=\"text-align: right;\">\n",
       "      <th></th>\n",
       "      <th>ID</th>\n",
       "      <th>Gender</th>\n",
       "      <th>Customer_Type</th>\n",
       "      <th>Age</th>\n",
       "      <th>Type_Travel</th>\n",
       "      <th>Travel_Class</th>\n",
       "      <th>Travel_Distance</th>\n",
       "      <th>Departure_Delay_in_Mins</th>\n",
       "      <th>Arrival_Delay_in_Mins</th>\n",
       "      <th>Seat_Comfort</th>\n",
       "      <th>...</th>\n",
       "      <th>Onboard_Entertainment</th>\n",
       "      <th>Online_Support</th>\n",
       "      <th>Ease_of_Online_Booking</th>\n",
       "      <th>Onboard_Service</th>\n",
       "      <th>Legroom</th>\n",
       "      <th>Baggage_Handling</th>\n",
       "      <th>CheckIn_Service</th>\n",
       "      <th>Cleanliness</th>\n",
       "      <th>Online_Boarding</th>\n",
       "      <th>Overall_Experience</th>\n",
       "    </tr>\n",
       "  </thead>\n",
       "  <tbody>\n",
       "    <tr>\n",
       "      <th>35597</th>\n",
       "      <td>99935598</td>\n",
       "      <td>Male</td>\n",
       "      <td>Loyal Customer</td>\n",
       "      <td>8.0</td>\n",
       "      <td>Personal Travel</td>\n",
       "      <td>Eco</td>\n",
       "      <td>1334</td>\n",
       "      <td>0.0</td>\n",
       "      <td>0.0</td>\n",
       "      <td>Needs Improvement</td>\n",
       "      <td>...</td>\n",
       "      <td>Needs Improvement</td>\n",
       "      <td>Acceptable</td>\n",
       "      <td>Acceptable</td>\n",
       "      <td>Good</td>\n",
       "      <td>Excellent</td>\n",
       "      <td>Good</td>\n",
       "      <td>Acceptable</td>\n",
       "      <td>Good</td>\n",
       "      <td>Acceptable</td>\n",
       "      <td>a</td>\n",
       "    </tr>\n",
       "    <tr>\n",
       "      <th>35598</th>\n",
       "      <td>99935599</td>\n",
       "      <td>Female</td>\n",
       "      <td>Loyal Customer</td>\n",
       "      <td>53.0</td>\n",
       "      <td>Business Travel</td>\n",
       "      <td>Business</td>\n",
       "      <td>1772</td>\n",
       "      <td>0.0</td>\n",
       "      <td>0.0</td>\n",
       "      <td>Needs Improvement</td>\n",
       "      <td>...</td>\n",
       "      <td>Excellent</td>\n",
       "      <td>Excellent</td>\n",
       "      <td>Good</td>\n",
       "      <td>Good</td>\n",
       "      <td>Good</td>\n",
       "      <td>Good</td>\n",
       "      <td>Acceptable</td>\n",
       "      <td>Good</td>\n",
       "      <td>Good</td>\n",
       "      <td>a</td>\n",
       "    </tr>\n",
       "    <tr>\n",
       "      <th>35599</th>\n",
       "      <td>99935600</td>\n",
       "      <td>Male</td>\n",
       "      <td>Disloyal Customer</td>\n",
       "      <td>22.0</td>\n",
       "      <td>Business Travel</td>\n",
       "      <td>Eco</td>\n",
       "      <td>1180</td>\n",
       "      <td>0.0</td>\n",
       "      <td>0.0</td>\n",
       "      <td>Good</td>\n",
       "      <td>...</td>\n",
       "      <td>Good</td>\n",
       "      <td>Poor</td>\n",
       "      <td>Needs Improvement</td>\n",
       "      <td>Poor</td>\n",
       "      <td>Acceptable</td>\n",
       "      <td>Poor</td>\n",
       "      <td>Poor</td>\n",
       "      <td>Excellent</td>\n",
       "      <td>Needs Improvement</td>\n",
       "      <td>a</td>\n",
       "    </tr>\n",
       "    <tr>\n",
       "      <th>35600</th>\n",
       "      <td>99935601</td>\n",
       "      <td>Female</td>\n",
       "      <td>Loyal Customer</td>\n",
       "      <td>67.0</td>\n",
       "      <td>Personal Travel</td>\n",
       "      <td>Eco</td>\n",
       "      <td>420</td>\n",
       "      <td>23.0</td>\n",
       "      <td>16.0</td>\n",
       "      <td>Excellent</td>\n",
       "      <td>...</td>\n",
       "      <td>Excellent</td>\n",
       "      <td>Good</td>\n",
       "      <td>Excellent</td>\n",
       "      <td>Excellent</td>\n",
       "      <td>Excellent</td>\n",
       "      <td>Excellent</td>\n",
       "      <td>Acceptable</td>\n",
       "      <td>Excellent</td>\n",
       "      <td>Good</td>\n",
       "      <td>a</td>\n",
       "    </tr>\n",
       "    <tr>\n",
       "      <th>35601</th>\n",
       "      <td>99935602</td>\n",
       "      <td>Male</td>\n",
       "      <td>NaN</td>\n",
       "      <td>20.0</td>\n",
       "      <td>Personal Travel</td>\n",
       "      <td>Eco</td>\n",
       "      <td>1680</td>\n",
       "      <td>0.0</td>\n",
       "      <td>0.0</td>\n",
       "      <td>Good</td>\n",
       "      <td>...</td>\n",
       "      <td>Good</td>\n",
       "      <td>Poor</td>\n",
       "      <td>Poor</td>\n",
       "      <td>Acceptable</td>\n",
       "      <td>Good</td>\n",
       "      <td>Good</td>\n",
       "      <td>Needs Improvement</td>\n",
       "      <td>Good</td>\n",
       "      <td>Poor</td>\n",
       "      <td>a</td>\n",
       "    </tr>\n",
       "  </tbody>\n",
       "</table>\n",
       "<p>5 rows × 25 columns</p>\n",
       "</div>"
      ],
      "text/plain": [
       "             ID  Gender      Customer_Type   Age      Type_Travel  \\\n",
       "35597  99935598    Male     Loyal Customer   8.0  Personal Travel   \n",
       "35598  99935599  Female     Loyal Customer  53.0  Business Travel   \n",
       "35599  99935600    Male  Disloyal Customer  22.0  Business Travel   \n",
       "35600  99935601  Female     Loyal Customer  67.0  Personal Travel   \n",
       "35601  99935602    Male                NaN  20.0  Personal Travel   \n",
       "\n",
       "      Travel_Class  Travel_Distance  Departure_Delay_in_Mins  \\\n",
       "35597          Eco             1334                      0.0   \n",
       "35598     Business             1772                      0.0   \n",
       "35599          Eco             1180                      0.0   \n",
       "35600          Eco              420                     23.0   \n",
       "35601          Eco             1680                      0.0   \n",
       "\n",
       "       Arrival_Delay_in_Mins       Seat_Comfort  ... Onboard_Entertainment  \\\n",
       "35597                    0.0  Needs Improvement  ...     Needs Improvement   \n",
       "35598                    0.0  Needs Improvement  ...             Excellent   \n",
       "35599                    0.0               Good  ...                  Good   \n",
       "35600                   16.0          Excellent  ...             Excellent   \n",
       "35601                    0.0               Good  ...                  Good   \n",
       "\n",
       "      Online_Support Ease_of_Online_Booking Onboard_Service     Legroom  \\\n",
       "35597     Acceptable             Acceptable            Good   Excellent   \n",
       "35598      Excellent                   Good            Good        Good   \n",
       "35599           Poor      Needs Improvement            Poor  Acceptable   \n",
       "35600           Good              Excellent       Excellent   Excellent   \n",
       "35601           Poor                   Poor      Acceptable        Good   \n",
       "\n",
       "      Baggage_Handling    CheckIn_Service Cleanliness    Online_Boarding  \\\n",
       "35597             Good         Acceptable        Good         Acceptable   \n",
       "35598             Good         Acceptable        Good               Good   \n",
       "35599             Poor               Poor   Excellent  Needs Improvement   \n",
       "35600        Excellent         Acceptable   Excellent               Good   \n",
       "35601             Good  Needs Improvement        Good               Poor   \n",
       "\n",
       "      Overall_Experience  \n",
       "35597                  a  \n",
       "35598                  a  \n",
       "35599                  a  \n",
       "35600                  a  \n",
       "35601                  a  \n",
       "\n",
       "[5 rows x 25 columns]"
      ]
     },
     "execution_count": 9,
     "metadata": {},
     "output_type": "execute_result"
    }
   ],
   "source": [
    "df.tail()"
   ]
  },
  {
   "cell_type": "code",
   "execution_count": 10,
   "id": "78444b4c",
   "metadata": {},
   "outputs": [
    {
     "name": "stdout",
     "output_type": "stream",
     "text": [
      "<class 'pandas.core.frame.DataFrame'>\n",
      "Int64Index: 129981 entries, 0 to 35601\n",
      "Data columns (total 25 columns):\n",
      " #   Column                   Non-Null Count   Dtype  \n",
      "---  ------                   --------------   -----  \n",
      " 0   ID                       129981 non-null  int64  \n",
      " 1   Gender                   129874 non-null  object \n",
      " 2   Customer_Type            117647 non-null  object \n",
      " 3   Age                      129937 non-null  float64\n",
      " 4   Type_Travel              117307 non-null  object \n",
      " 5   Travel_Class             129981 non-null  object \n",
      " 6   Travel_Distance          129981 non-null  int64  \n",
      " 7   Departure_Delay_in_Mins  129895 non-null  float64\n",
      " 8   Arrival_Delay_in_Mins    129501 non-null  float64\n",
      " 9   Seat_Comfort             129898 non-null  object \n",
      " 10  Seat_Class               129981 non-null  object \n",
      " 11  Arrival_Time_Convenient  117726 non-null  object \n",
      " 12  Catering                 117883 non-null  object \n",
      " 13  Platform_Location        129939 non-null  object \n",
      " 14  Onboard_Wifi_Service     129939 non-null  object \n",
      " 15  Onboard_Entertainment    129955 non-null  object \n",
      " 16  Online_Support           129864 non-null  object \n",
      " 17  Ease_of_Online_Booking   129890 non-null  object \n",
      " 18  Onboard_Service          119508 non-null  object \n",
      " 19  Legroom                  129866 non-null  object \n",
      " 20  Baggage_Handling         129799 non-null  object \n",
      " 21  CheckIn_Service          129882 non-null  object \n",
      " 22  Cleanliness              129973 non-null  object \n",
      " 23  Online_Boarding          129973 non-null  object \n",
      " 24  Overall_Experience       129981 non-null  object \n",
      "dtypes: float64(3), int64(2), object(20)\n",
      "memory usage: 25.8+ MB\n"
     ]
    }
   ],
   "source": [
    "df.info()"
   ]
  },
  {
   "cell_type": "code",
   "execution_count": 11,
   "id": "e53ed4c8",
   "metadata": {},
   "outputs": [],
   "source": [
    "#converting object datatype into categorical\n",
    "cat_columns = df.select_dtypes('object').columns.tolist()\n",
    "cat_columns.remove('Overall_Experience')\n",
    "for i in cat_columns:\n",
    "    df[i] = df[i].astype('category')"
   ]
  },
  {
   "cell_type": "code",
   "execution_count": 12,
   "id": "4671a45e",
   "metadata": {},
   "outputs": [
    {
     "data": {
      "text/plain": [
       "ID                            int64\n",
       "Gender                     category\n",
       "Customer_Type              category\n",
       "Age                         float64\n",
       "Type_Travel                category\n",
       "Travel_Class               category\n",
       "Travel_Distance               int64\n",
       "Departure_Delay_in_Mins     float64\n",
       "Arrival_Delay_in_Mins       float64\n",
       "Seat_Comfort               category\n",
       "Seat_Class                 category\n",
       "Arrival_Time_Convenient    category\n",
       "Catering                   category\n",
       "Platform_Location          category\n",
       "Onboard_Wifi_Service       category\n",
       "Onboard_Entertainment      category\n",
       "Online_Support             category\n",
       "Ease_of_Online_Booking     category\n",
       "Onboard_Service            category\n",
       "Legroom                    category\n",
       "Baggage_Handling           category\n",
       "CheckIn_Service            category\n",
       "Cleanliness                category\n",
       "Online_Boarding            category\n",
       "Overall_Experience           object\n",
       "dtype: object"
      ]
     },
     "execution_count": 12,
     "metadata": {},
     "output_type": "execute_result"
    }
   ],
   "source": [
    "df.dtypes"
   ]
  },
  {
   "cell_type": "code",
   "execution_count": 13,
   "id": "aa0e2228",
   "metadata": {},
   "outputs": [
    {
     "data": {
      "text/html": [
       "<div>\n",
       "<style scoped>\n",
       "    .dataframe tbody tr th:only-of-type {\n",
       "        vertical-align: middle;\n",
       "    }\n",
       "\n",
       "    .dataframe tbody tr th {\n",
       "        vertical-align: top;\n",
       "    }\n",
       "\n",
       "    .dataframe thead th {\n",
       "        text-align: right;\n",
       "    }\n",
       "</style>\n",
       "<table border=\"1\" class=\"dataframe\">\n",
       "  <thead>\n",
       "    <tr style=\"text-align: right;\">\n",
       "      <th></th>\n",
       "      <th>ID</th>\n",
       "      <th>Age</th>\n",
       "      <th>Travel_Distance</th>\n",
       "      <th>Departure_Delay_in_Mins</th>\n",
       "      <th>Arrival_Delay_in_Mins</th>\n",
       "    </tr>\n",
       "  </thead>\n",
       "  <tbody>\n",
       "    <tr>\n",
       "      <th>count</th>\n",
       "      <td>1.299810e+05</td>\n",
       "      <td>129937.000000</td>\n",
       "      <td>129981.000000</td>\n",
       "      <td>129895.000000</td>\n",
       "      <td>129501.000000</td>\n",
       "    </tr>\n",
       "    <tr>\n",
       "      <th>mean</th>\n",
       "      <td>9.914043e+07</td>\n",
       "      <td>39.427138</td>\n",
       "      <td>1981.151591</td>\n",
       "      <td>14.711067</td>\n",
       "      <td>15.088393</td>\n",
       "    </tr>\n",
       "    <tr>\n",
       "      <th>std</th>\n",
       "      <td>4.780451e+05</td>\n",
       "      <td>15.122312</td>\n",
       "      <td>1026.964654</td>\n",
       "      <td>38.072295</td>\n",
       "      <td>38.464694</td>\n",
       "    </tr>\n",
       "    <tr>\n",
       "      <th>min</th>\n",
       "      <td>9.880000e+07</td>\n",
       "      <td>7.000000</td>\n",
       "      <td>50.000000</td>\n",
       "      <td>0.000000</td>\n",
       "      <td>0.000000</td>\n",
       "    </tr>\n",
       "    <tr>\n",
       "      <th>25%</th>\n",
       "      <td>9.883250e+07</td>\n",
       "      <td>27.000000</td>\n",
       "      <td>1359.000000</td>\n",
       "      <td>0.000000</td>\n",
       "      <td>0.000000</td>\n",
       "    </tr>\n",
       "    <tr>\n",
       "      <th>50%</th>\n",
       "      <td>9.886499e+07</td>\n",
       "      <td>40.000000</td>\n",
       "      <td>1924.000000</td>\n",
       "      <td>0.000000</td>\n",
       "      <td>0.000000</td>\n",
       "    </tr>\n",
       "    <tr>\n",
       "      <th>75%</th>\n",
       "      <td>9.990311e+07</td>\n",
       "      <td>51.000000</td>\n",
       "      <td>2543.000000</td>\n",
       "      <td>12.000000</td>\n",
       "      <td>13.000000</td>\n",
       "    </tr>\n",
       "    <tr>\n",
       "      <th>max</th>\n",
       "      <td>9.993560e+07</td>\n",
       "      <td>85.000000</td>\n",
       "      <td>6951.000000</td>\n",
       "      <td>1592.000000</td>\n",
       "      <td>1584.000000</td>\n",
       "    </tr>\n",
       "  </tbody>\n",
       "</table>\n",
       "</div>"
      ],
      "text/plain": [
       "                 ID            Age  Travel_Distance  Departure_Delay_in_Mins  \\\n",
       "count  1.299810e+05  129937.000000    129981.000000            129895.000000   \n",
       "mean   9.914043e+07      39.427138      1981.151591                14.711067   \n",
       "std    4.780451e+05      15.122312      1026.964654                38.072295   \n",
       "min    9.880000e+07       7.000000        50.000000                 0.000000   \n",
       "25%    9.883250e+07      27.000000      1359.000000                 0.000000   \n",
       "50%    9.886499e+07      40.000000      1924.000000                 0.000000   \n",
       "75%    9.990311e+07      51.000000      2543.000000                12.000000   \n",
       "max    9.993560e+07      85.000000      6951.000000              1592.000000   \n",
       "\n",
       "       Arrival_Delay_in_Mins  \n",
       "count          129501.000000  \n",
       "mean               15.088393  \n",
       "std                38.464694  \n",
       "min                 0.000000  \n",
       "25%                 0.000000  \n",
       "50%                 0.000000  \n",
       "75%                13.000000  \n",
       "max              1584.000000  "
      ]
     },
     "execution_count": 13,
     "metadata": {},
     "output_type": "execute_result"
    }
   ],
   "source": [
    "#analyze summary statistics\n",
    "df.describe()"
   ]
  },
  {
   "cell_type": "code",
   "execution_count": 14,
   "id": "111afd9b",
   "metadata": {},
   "outputs": [
    {
     "data": {
      "text/html": [
       "<div>\n",
       "<style scoped>\n",
       "    .dataframe tbody tr th:only-of-type {\n",
       "        vertical-align: middle;\n",
       "    }\n",
       "\n",
       "    .dataframe tbody tr th {\n",
       "        vertical-align: top;\n",
       "    }\n",
       "\n",
       "    .dataframe thead th {\n",
       "        text-align: right;\n",
       "    }\n",
       "</style>\n",
       "<table border=\"1\" class=\"dataframe\">\n",
       "  <thead>\n",
       "    <tr style=\"text-align: right;\">\n",
       "      <th></th>\n",
       "      <th>Gender</th>\n",
       "      <th>Customer_Type</th>\n",
       "      <th>Type_Travel</th>\n",
       "      <th>Travel_Class</th>\n",
       "      <th>Seat_Comfort</th>\n",
       "      <th>Seat_Class</th>\n",
       "      <th>Arrival_Time_Convenient</th>\n",
       "      <th>Catering</th>\n",
       "      <th>Platform_Location</th>\n",
       "      <th>Onboard_Wifi_Service</th>\n",
       "      <th>Onboard_Entertainment</th>\n",
       "      <th>Online_Support</th>\n",
       "      <th>Ease_of_Online_Booking</th>\n",
       "      <th>Onboard_Service</th>\n",
       "      <th>Legroom</th>\n",
       "      <th>Baggage_Handling</th>\n",
       "      <th>CheckIn_Service</th>\n",
       "      <th>Cleanliness</th>\n",
       "      <th>Online_Boarding</th>\n",
       "    </tr>\n",
       "  </thead>\n",
       "  <tbody>\n",
       "    <tr>\n",
       "      <th>count</th>\n",
       "      <td>129874</td>\n",
       "      <td>117647</td>\n",
       "      <td>117307</td>\n",
       "      <td>129981</td>\n",
       "      <td>129898</td>\n",
       "      <td>129981</td>\n",
       "      <td>117726</td>\n",
       "      <td>117883</td>\n",
       "      <td>129939</td>\n",
       "      <td>129939</td>\n",
       "      <td>129955</td>\n",
       "      <td>129864</td>\n",
       "      <td>129890</td>\n",
       "      <td>119508</td>\n",
       "      <td>129866</td>\n",
       "      <td>129799</td>\n",
       "      <td>129882</td>\n",
       "      <td>129973</td>\n",
       "      <td>129973</td>\n",
       "    </tr>\n",
       "    <tr>\n",
       "      <th>unique</th>\n",
       "      <td>2</td>\n",
       "      <td>2</td>\n",
       "      <td>2</td>\n",
       "      <td>2</td>\n",
       "      <td>6</td>\n",
       "      <td>2</td>\n",
       "      <td>6</td>\n",
       "      <td>6</td>\n",
       "      <td>6</td>\n",
       "      <td>6</td>\n",
       "      <td>6</td>\n",
       "      <td>6</td>\n",
       "      <td>6</td>\n",
       "      <td>6</td>\n",
       "      <td>6</td>\n",
       "      <td>5</td>\n",
       "      <td>6</td>\n",
       "      <td>6</td>\n",
       "      <td>6</td>\n",
       "    </tr>\n",
       "    <tr>\n",
       "      <th>top</th>\n",
       "      <td>Female</td>\n",
       "      <td>Loyal Customer</td>\n",
       "      <td>Business Travel</td>\n",
       "      <td>Eco</td>\n",
       "      <td>Acceptable</td>\n",
       "      <td>Green Car</td>\n",
       "      <td>Good</td>\n",
       "      <td>Acceptable</td>\n",
       "      <td>Manageable</td>\n",
       "      <td>Good</td>\n",
       "      <td>Good</td>\n",
       "      <td>Good</td>\n",
       "      <td>Good</td>\n",
       "      <td>Good</td>\n",
       "      <td>Good</td>\n",
       "      <td>Good</td>\n",
       "      <td>Good</td>\n",
       "      <td>Good</td>\n",
       "      <td>Good</td>\n",
       "    </tr>\n",
       "    <tr>\n",
       "      <th>freq</th>\n",
       "      <td>65884</td>\n",
       "      <td>96172</td>\n",
       "      <td>80930</td>\n",
       "      <td>67815</td>\n",
       "      <td>29161</td>\n",
       "      <td>65177</td>\n",
       "      <td>26935</td>\n",
       "      <td>25601</td>\n",
       "      <td>33537</td>\n",
       "      <td>31578</td>\n",
       "      <td>41882</td>\n",
       "      <td>41503</td>\n",
       "      <td>39934</td>\n",
       "      <td>37487</td>\n",
       "      <td>39712</td>\n",
       "      <td>48235</td>\n",
       "      <td>36484</td>\n",
       "      <td>48848</td>\n",
       "      <td>35213</td>\n",
       "    </tr>\n",
       "  </tbody>\n",
       "</table>\n",
       "</div>"
      ],
      "text/plain": [
       "        Gender   Customer_Type      Type_Travel Travel_Class Seat_Comfort  \\\n",
       "count   129874          117647           117307       129981       129898   \n",
       "unique       2               2                2            2            6   \n",
       "top     Female  Loyal Customer  Business Travel          Eco   Acceptable   \n",
       "freq     65884           96172            80930        67815        29161   \n",
       "\n",
       "       Seat_Class Arrival_Time_Convenient    Catering Platform_Location  \\\n",
       "count      129981                  117726      117883            129939   \n",
       "unique          2                       6           6                 6   \n",
       "top     Green Car                    Good  Acceptable        Manageable   \n",
       "freq        65177                   26935       25601             33537   \n",
       "\n",
       "       Onboard_Wifi_Service Onboard_Entertainment Online_Support  \\\n",
       "count                129939                129955         129864   \n",
       "unique                    6                     6              6   \n",
       "top                    Good                  Good           Good   \n",
       "freq                  31578                 41882          41503   \n",
       "\n",
       "       Ease_of_Online_Booking Onboard_Service Legroom Baggage_Handling  \\\n",
       "count                  129890          119508  129866           129799   \n",
       "unique                      6               6       6                5   \n",
       "top                      Good            Good    Good             Good   \n",
       "freq                    39934           37487   39712            48235   \n",
       "\n",
       "       CheckIn_Service Cleanliness Online_Boarding  \n",
       "count           129882      129973          129973  \n",
       "unique               6           6               6  \n",
       "top               Good        Good            Good  \n",
       "freq             36484       48848           35213  "
      ]
     },
     "execution_count": 14,
     "metadata": {},
     "output_type": "execute_result"
    }
   ],
   "source": [
    "df.describe(include = 'category')"
   ]
  },
  {
   "cell_type": "code",
   "execution_count": 15,
   "id": "6680116f",
   "metadata": {},
   "outputs": [],
   "source": [
    "def treat_outliers(df,col):\n",
    "    '''\n",
    "    treats outliers in a varaible\n",
    "    col: str, name of the numerical varaible\n",
    "    df: data frame\n",
    "    col: name of the column\n",
    "    '''\n",
    "    \n",
    "    Q1=np.quantile(df[col], 0.25) # 25th quantile\n",
    "    Q3=np.quantile(df[col], 0.75)  # 75th quantile\n",
    "    IQR=Q3-Q1   # IQR Range\n",
    "    Lower_Whisker = Q1 - 1.5*IQR  #define lower whisker\n",
    "    Upper_Whisker = Q3 + 1.5*IQR  # define upper Whisker\n",
    "    df[col] = np.clip(df[col], Lower_Whisker, Upper_Whisker) # all the values samller than Lower_Whisker will be assigned value of Lower_whisker \n",
    "                                                            # and all the values above upper_whishker will be assigned value of upper_Whisker \n",
    "    return df\n",
    "\n",
    "def treat_outliers_all(df, col_list):\n",
    "    '''\n",
    "    treat outlier in all numerical varaibles\n",
    "    col_list: list of numerical varaibles\n",
    "    df: data frame\n",
    "    '''\n",
    "    for c in col_list:\n",
    "        df = treat_outliers(df,c)\n",
    "        \n",
    "    return df"
   ]
  },
  {
   "cell_type": "code",
   "execution_count": 16,
   "id": "1940d8b8",
   "metadata": {},
   "outputs": [],
   "source": [
    "df_raw = df.copy()\n",
    "\n",
    "numerical_col = df_raw.select_dtypes(include=np.number).columns.tolist()# getting list of numerical columns\n",
    "\n",
    "df = treat_outliers_all(df_raw,numerical_col)"
   ]
  },
  {
   "cell_type": "code",
   "execution_count": 17,
   "id": "4bb2fe5a",
   "metadata": {},
   "outputs": [],
   "source": [
    "#For each column we create a binary flag for the row, if there is missing value in the row, then 1 else 0. \n",
    "def add_binary_flag(df,col):\n",
    "    '''\n",
    "    df: It is the dataframe\n",
    "    col: it is column which has missing values\n",
    "    It returns a dataframe which has binary falg for missing values in column col\n",
    "    '''\n",
    "    new_col = str(col)\n",
    "    new_col += '_missing_values_flag'\n",
    "    df[new_col] = df[col].isna()\n",
    "    return df"
   ]
  },
  {
   "cell_type": "code",
   "execution_count": 18,
   "id": "48cb2b0c",
   "metadata": {},
   "outputs": [],
   "source": [
    "# list of columns that has missing values in it\n",
    "missing_col = [col for col in df.columns if df[col].isnull().any()]\n",
    "\n",
    "for colmn in missing_col:\n",
    "    add_binary_flag(df,colmn)\n",
    "    "
   ]
  },
  {
   "cell_type": "code",
   "execution_count": 19,
   "id": "46c9214c",
   "metadata": {},
   "outputs": [],
   "source": [
    "#  Treat Missing values in numerical columns with median and mode in categorical variables\n",
    "# Select numeric columns.\n",
    "num_data = df.select_dtypes('number')\n",
    "\n",
    "# Select string and object columns.\n",
    "cat_data = df.select_dtypes('category').columns.tolist()#df.select_dtypes('object')\n",
    "\n",
    "# Fill numeric columns with median.\n",
    "df[num_data.columns] = df[num_data.columns].fillna(df[num_data.columns].median())\n",
    "\n",
    "# Fill object columns with model.\n",
    "for column in cat_data:\n",
    "    mode = df[column].mode()[0]\n",
    "    df[column] = df[column].fillna(mode)"
   ]
  },
  {
   "cell_type": "code",
   "execution_count": 20,
   "id": "78bfe309",
   "metadata": {},
   "outputs": [],
   "source": [
    "# Drop the dependent variable from the dataframe and create the X(independent variable) matrix\n",
    "cat_col = df.select_dtypes('category').columns.tolist()\n",
    "# Create dummy variables for the categorical variables - Hint: use the get_dummies() function\n",
    "dfx = pd.get_dummies(data = df, columns = cat_col, drop_first = True)\n",
    "\n",
    "test_df = dfx.loc[df['Overall_Experience'] == 'a']\n",
    "test_id = test_df['ID']\n",
    "test_df = test_df.drop(columns = ['Overall_Experience', 'ID'], axis = 1)\n",
    "\n",
    "\n",
    "\n",
    "X = dfx.loc[dfx['Overall_Experience'] != 'a']\n",
    "y = X.Overall_Experience.astype('category')\n",
    "\n",
    "X = X.drop(columns = ['Overall_Experience', 'ID'], axis = 1)\n",
    "\n"
   ]
  },
  {
   "cell_type": "code",
   "execution_count": 21,
   "id": "581f065e",
   "metadata": {},
   "outputs": [],
   "source": [
    "# Split the data into training and test set\n",
    "\n",
    "x_train, x_test, y_train, y_test = train_test_split(X, y, test_size = 0.3, random_state = 1, stratify = y)"
   ]
  },
  {
   "cell_type": "code",
   "execution_count": 22,
   "id": "b7e7c82a",
   "metadata": {},
   "outputs": [
    {
     "data": {
      "text/plain": [
       "1    51593\n",
       "0    42786\n",
       "Name: Overall_Experience, dtype: int64"
      ]
     },
     "execution_count": 22,
     "metadata": {},
     "output_type": "execute_result"
    }
   ],
   "source": [
    "y.value_counts()"
   ]
  },
  {
   "cell_type": "code",
   "execution_count": 23,
   "id": "309ba111",
   "metadata": {},
   "outputs": [],
   "source": [
    "#creating metric function \n",
    "def metrics_score(actual, predicted):\n",
    "    print(classification_report(actual, predicted))\n",
    "    cm = confusion_matrix(actual, predicted)\n",
    "    plt.figure(figsize=(8,5))\n",
    "    sns.heatmap(cm, annot=True,  fmt='.2f', xticklabels=['Not Eligible', 'Eligible'], yticklabels=['Not Eligible', 'Eligible'])\n",
    "    plt.ylabel('Actual')\n",
    "    plt.xlabel('Predicted')\n",
    "    plt.show()"
   ]
  },
  {
   "cell_type": "code",
   "execution_count": 105,
   "id": "21c19018",
   "metadata": {},
   "outputs": [
    {
     "data": {
      "text/plain": [
       "LogisticRegression()"
      ]
     },
     "execution_count": 105,
     "metadata": {},
     "output_type": "execute_result"
    }
   ],
   "source": [
    "# Defining the Logistic regression model\n",
    "lg = LogisticRegression()\n",
    "# Fitting the model on the training data \n",
    "\n",
    "lg.fit(x_train, y_train)"
   ]
  },
  {
   "cell_type": "code",
   "execution_count": 106,
   "id": "0e328286",
   "metadata": {},
   "outputs": [
    {
     "name": "stdout",
     "output_type": "stream",
     "text": [
      "              precision    recall  f1-score   support\n",
      "\n",
      "           0       0.83      0.82      0.82     29950\n",
      "           1       0.85      0.86      0.85     36115\n",
      "\n",
      "    accuracy                           0.84     66065\n",
      "   macro avg       0.84      0.84      0.84     66065\n",
      "weighted avg       0.84      0.84      0.84     66065\n",
      "\n"
     ]
    },
    {
     "data": {
      "image/png": "[encoded data removed]",
      "text/plain": [
       "<Figure size 576x360 with 2 Axes>"
      ]
     },
     "metadata": {},
     "output_type": "display_data"
    }
   ],
   "source": [
    "#Predict for train set\n",
    "y_pred_train = lg.predict(x_train)\n",
    "#checking the performance on the train dataset\n",
    "metrics_score(y_train, y_pred_train)"
   ]
  },
  {
   "cell_type": "code",
   "execution_count": 107,
   "id": "568336e6",
   "metadata": {},
   "outputs": [
    {
     "name": "stdout",
     "output_type": "stream",
     "text": [
      "              precision    recall  f1-score   support\n",
      "\n",
      "           0       0.83      0.82      0.83     12836\n",
      "           1       0.86      0.86      0.86     15478\n",
      "\n",
      "    accuracy                           0.84     28314\n",
      "   macro avg       0.84      0.84      0.84     28314\n",
      "weighted avg       0.84      0.84      0.84     28314\n",
      "\n"
     ]
    },
    {
     "data": {
      "image/png": "[encoded data removed]",
      "text/plain": [
       "<Figure size 576x360 with 2 Axes>"
      ]
     },
     "metadata": {},
     "output_type": "display_data"
    }
   ],
   "source": [
    "#Predict for test set\n",
    "\n",
    "y_pred_test = lg.predict(x_test)\n",
    "\n",
    "#checking the performance on the test dataset\n",
    "\n",
    "metrics_score(y_test, y_pred_test)"
   ]
  },
  {
   "cell_type": "code",
   "execution_count": 108,
   "id": "3abfcb0f",
   "metadata": {},
   "outputs": [
    {
     "data": {
      "text/html": [
       "<div>\n",
       "<style scoped>\n",
       "    .dataframe tbody tr th:only-of-type {\n",
       "        vertical-align: middle;\n",
       "    }\n",
       "\n",
       "    .dataframe tbody tr th {\n",
       "        vertical-align: top;\n",
       "    }\n",
       "\n",
       "    .dataframe thead th {\n",
       "        text-align: right;\n",
       "    }\n",
       "</style>\n",
       "<table border=\"1\" class=\"dataframe\">\n",
       "  <thead>\n",
       "    <tr style=\"text-align: right;\">\n",
       "      <th></th>\n",
       "      <th>0</th>\n",
       "    </tr>\n",
       "  </thead>\n",
       "  <tbody>\n",
       "    <tr>\n",
       "      <th>Onboard_Entertainment_Excellent</th>\n",
       "      <td>0.989290</td>\n",
       "    </tr>\n",
       "    <tr>\n",
       "      <th>Seat_Comfort_Excellent</th>\n",
       "      <td>0.674768</td>\n",
       "    </tr>\n",
       "    <tr>\n",
       "      <th>Onboard_Entertainment_Good</th>\n",
       "      <td>0.534731</td>\n",
       "    </tr>\n",
       "    <tr>\n",
       "      <th>Online_Support_Excellent</th>\n",
       "      <td>0.530812</td>\n",
       "    </tr>\n",
       "    <tr>\n",
       "      <th>Customer_Type_Loyal Customer</th>\n",
       "      <td>0.484335</td>\n",
       "    </tr>\n",
       "    <tr>\n",
       "      <th>...</th>\n",
       "      <td>...</td>\n",
       "    </tr>\n",
       "    <tr>\n",
       "      <th>Ease_of_Online_Booking_Poor</th>\n",
       "      <td>-0.327540</td>\n",
       "    </tr>\n",
       "    <tr>\n",
       "      <th>Seat_Comfort_Needs Improvement</th>\n",
       "      <td>-0.400326</td>\n",
       "    </tr>\n",
       "    <tr>\n",
       "      <th>Onboard_Entertainment_Needs Improvement</th>\n",
       "      <td>-0.542156</td>\n",
       "    </tr>\n",
       "    <tr>\n",
       "      <th>Gender_Male</th>\n",
       "      <td>-0.597299</td>\n",
       "    </tr>\n",
       "    <tr>\n",
       "      <th>Travel_Class_Eco</th>\n",
       "      <td>-0.819829</td>\n",
       "    </tr>\n",
       "  </tbody>\n",
       "</table>\n",
       "<p>98 rows × 1 columns</p>\n",
       "</div>"
      ],
      "text/plain": [
       "                                                0\n",
       "Onboard_Entertainment_Excellent          0.989290\n",
       "Seat_Comfort_Excellent                   0.674768\n",
       "Onboard_Entertainment_Good               0.534731\n",
       "Online_Support_Excellent                 0.530812\n",
       "Customer_Type_Loyal Customer             0.484335\n",
       "...                                           ...\n",
       "Ease_of_Online_Booking_Poor             -0.327540\n",
       "Seat_Comfort_Needs Improvement          -0.400326\n",
       "Onboard_Entertainment_Needs Improvement -0.542156\n",
       "Gender_Male                             -0.597299\n",
       "Travel_Class_Eco                        -0.819829\n",
       "\n",
       "[98 rows x 1 columns]"
      ]
     },
     "execution_count": 108,
     "metadata": {},
     "output_type": "execute_result"
    }
   ],
   "source": [
    "# Printing the coefficients of logistic regression\n",
    "cols = X.columns\n",
    "coef_lg = lg.coef_\n",
    "pd.DataFrame(coef_lg,columns = cols).T.sort_values(by = 0, ascending = False)"
   ]
  },
  {
   "cell_type": "code",
   "execution_count": 109,
   "id": "75dd6816",
   "metadata": {},
   "outputs": [],
   "source": [
    "#Defining Decision tree model with class weights class_weight={0: 0.2, 1: 0.8}\n",
    "\n",
    "dt = DecisionTreeClassifier(class_weight = {0: 0.5, 1: 0.5}, random_state = 1)"
   ]
  },
  {
   "cell_type": "code",
   "execution_count": 110,
   "id": "a28741aa",
   "metadata": {},
   "outputs": [
    {
     "data": {
      "text/plain": [
       "DecisionTreeClassifier(class_weight={0: 0.5, 1: 0.5}, random_state=1)"
      ]
     },
     "execution_count": 110,
     "metadata": {},
     "output_type": "execute_result"
    }
   ],
   "source": [
    "#fitting Decision tree model\n",
    "dt.fit(x_train, y_train)"
   ]
  },
  {
   "cell_type": "code",
   "execution_count": 111,
   "id": "5eca0d47",
   "metadata": {},
   "outputs": [
    {
     "name": "stdout",
     "output_type": "stream",
     "text": [
      "              precision    recall  f1-score   support\n",
      "\n",
      "           0       1.00      1.00      1.00     29950\n",
      "           1       1.00      1.00      1.00     36115\n",
      "\n",
      "    accuracy                           1.00     66065\n",
      "   macro avg       1.00      1.00      1.00     66065\n",
      "weighted avg       1.00      1.00      1.00     66065\n",
      "\n"
     ]
    },
    {
     "data": {
      "image/png": "[encoded data removed]",
      "text/plain": [
       "<Figure size 576x360 with 2 Axes>"
      ]
     },
     "metadata": {},
     "output_type": "display_data"
    }
   ],
   "source": [
    "# Checking performance on the training data\n",
    "y_pred_train_dt = dt.predict(x_train)\n",
    "metrics_score(y_train, y_pred_train_dt)"
   ]
  },
  {
   "cell_type": "code",
   "execution_count": 112,
   "id": "496b9be4",
   "metadata": {},
   "outputs": [
    {
     "name": "stdout",
     "output_type": "stream",
     "text": [
      "              precision    recall  f1-score   support\n",
      "\n",
      "           0       0.93      0.92      0.92     12836\n",
      "           1       0.93      0.94      0.94     15478\n",
      "\n",
      "    accuracy                           0.93     28314\n",
      "   macro avg       0.93      0.93      0.93     28314\n",
      "weighted avg       0.93      0.93      0.93     28314\n",
      "\n"
     ]
    },
    {
     "data": {
      "image/png": "[encoded data removed]",
      "text/plain": [
       "<Figure size 576x360 with 2 Axes>"
      ]
     },
     "metadata": {},
     "output_type": "display_data"
    }
   ],
   "source": [
    "# Checking performance on the testing data\n",
    "y_pred_test_dt = dt.predict(x_test)\n",
    "metrics_score(y_test, y_pred_test_dt)"
   ]
  },
  {
   "cell_type": "code",
   "execution_count": 113,
   "id": "e88bed03",
   "metadata": {},
   "outputs": [
    {
     "data": {
      "text/plain": [
       "DecisionTreeClassifier(class_weight={0: 0.5, 1: 0.5}, criterion='entropy',\n",
       "                       max_depth=5, min_samples_leaf=5, random_state=1)"
      ]
     },
     "execution_count": 113,
     "metadata": {},
     "output_type": "execute_result"
    }
   ],
   "source": [
    "# Choose the type of classifier. \n",
    "dtree_estimator = DecisionTreeClassifier(class_weight = {0: 0.5, 1: 0.5}, random_state = 1)\n",
    "\n",
    "\n",
    "# Grid of parameters to choose from\n",
    "parameters = {'max_depth': np.arange(2, 7), \n",
    "              'criterion': ['gini', 'entropy'],\n",
    "              'min_samples_leaf': [5, 10, 20, 25]\n",
    "             }\n",
    "\n",
    "\n",
    "# Type of scoring used to compare parameter combinations\n",
    "scorer = metrics.make_scorer(recall_score, pos_label = 1)\n",
    "\n",
    "\n",
    "# Run the grid search\n",
    "gridCV = GridSearchCV(dtree_estimator, parameters, scoring = scorer, cv = 10)\n",
    "\n",
    "\n",
    "# Fit the GridSearch on train dataset\n",
    "gridCV = gridCV.fit(x_train, y_train)\n",
    "\n",
    "\n",
    "# Set the clf to the best combination of parameters\n",
    "dtree_estimator = gridCV.best_estimator_\n",
    "\n",
    "\n",
    "# Fit the best algorithm to the data. \n",
    "dtree_estimator.fit(x_train, y_train)"
   ]
  },
  {
   "cell_type": "code",
   "execution_count": 114,
   "id": "1eed2337",
   "metadata": {},
   "outputs": [
    {
     "name": "stdout",
     "output_type": "stream",
     "text": [
      "              precision    recall  f1-score   support\n",
      "\n",
      "           0       0.87      0.84      0.85     29950\n",
      "           1       0.87      0.89      0.88     36115\n",
      "\n",
      "    accuracy                           0.87     66065\n",
      "   macro avg       0.87      0.86      0.87     66065\n",
      "weighted avg       0.87      0.87      0.87     66065\n",
      "\n"
     ]
    },
    {
     "data": {
      "image/png": "[encoded data removed]",
      "text/plain": [
       "<Figure size 576x360 with 2 Axes>"
      ]
     },
     "metadata": {},
     "output_type": "display_data"
    }
   ],
   "source": [
    "# Checking performance on the training data based on the tuned model\n",
    "y_train_pred_est = dtree_estimator.predict(x_train)\n",
    "metrics_score(y_train, y_train_pred_est)"
   ]
  },
  {
   "cell_type": "code",
   "execution_count": 115,
   "id": "a32a8851",
   "metadata": {},
   "outputs": [
    {
     "name": "stdout",
     "output_type": "stream",
     "text": [
      "              precision    recall  f1-score   support\n",
      "\n",
      "           0       0.87      0.83      0.85     12836\n",
      "           1       0.86      0.89      0.88     15478\n",
      "\n",
      "    accuracy                           0.86     28314\n",
      "   macro avg       0.86      0.86      0.86     28314\n",
      "weighted avg       0.86      0.86      0.86     28314\n",
      "\n"
     ]
    },
    {
     "data": {
      "image/png": "[encoded data removed]",
      "text/plain": [
       "<Figure size 576x360 with 2 Axes>"
      ]
     },
     "metadata": {},
     "output_type": "display_data"
    }
   ],
   "source": [
    "# Checking performance on the testing data based on the tuned model\n",
    "y_test_pred_est = dtree_estimator.predict(x_test)\n",
    "metrics_score(y_test, y_test_pred_est)"
   ]
  },
  {
   "cell_type": "code",
   "execution_count": 117,
   "id": "e3ee4ad0",
   "metadata": {},
   "outputs": [
    {
     "data": {
      "text/plain": [
       "RandomForestClassifier(class_weight={0: 0.5, 1: 0.5}, random_state=1)"
      ]
     },
     "execution_count": 117,
     "metadata": {},
     "output_type": "execute_result"
    }
   ],
   "source": [
    "# Defining Random forest CLassifier\n",
    "rf_estimator = RandomForestClassifier(class_weight = {0: 0.5, 1: 0.5}, random_state = 1)\n",
    "\n",
    "rf_estimator.fit(x_train, y_train)"
   ]
  },
  {
   "cell_type": "code",
   "execution_count": 118,
   "id": "ec2aa201",
   "metadata": {},
   "outputs": [
    {
     "name": "stdout",
     "output_type": "stream",
     "text": [
      "              precision    recall  f1-score   support\n",
      "\n",
      "           0       1.00      1.00      1.00     29950\n",
      "           1       1.00      1.00      1.00     36115\n",
      "\n",
      "    accuracy                           1.00     66065\n",
      "   macro avg       1.00      1.00      1.00     66065\n",
      "weighted avg       1.00      1.00      1.00     66065\n",
      "\n"
     ]
    },
    {
     "data": {
      "image/png": "[encoded data removed]",
      "text/plain": [
       "<Figure size 576x360 with 2 Axes>"
      ]
     },
     "metadata": {},
     "output_type": "display_data"
    }
   ],
   "source": [
    "#Checking performance on the training data\n",
    "y_train_pred_rf = rf_estimator.predict(x_train)\n",
    "metrics_score(y_train, y_train_pred_rf)"
   ]
  },
  {
   "cell_type": "code",
   "execution_count": 119,
   "id": "bfe06e5d",
   "metadata": {},
   "outputs": [
    {
     "name": "stdout",
     "output_type": "stream",
     "text": [
      "              precision    recall  f1-score   support\n",
      "\n",
      "           0       0.93      0.95      0.94     12836\n",
      "           1       0.96      0.94      0.95     15478\n",
      "\n",
      "    accuracy                           0.95     28314\n",
      "   macro avg       0.95      0.95      0.95     28314\n",
      "weighted avg       0.95      0.95      0.95     28314\n",
      "\n"
     ]
    },
    {
     "data": {
      "image/png": "[encoded data removed]",
      "text/plain": [
       "<Figure size 576x360 with 2 Axes>"
      ]
     },
     "metadata": {},
     "output_type": "display_data"
    }
   ],
   "source": [
    "# Checking performance on the test data\n",
    "\n",
    "y_test_pred_rf = rf_estimator.predict(x_test)\n",
    "metrics_score(y_test, y_test_pred_rf)"
   ]
  },
  {
   "cell_type": "code",
   "execution_count": 120,
   "id": "217861a7",
   "metadata": {},
   "outputs": [
    {
     "data": {
      "text/plain": [
       "RandomForestClassifier(class_weight={0: 0.5, 1: 0.5}, max_features=0.7,\n",
       "                       n_estimators=500, random_state=1)"
      ]
     },
     "execution_count": 120,
     "metadata": {},
     "output_type": "execute_result"
    }
   ],
   "source": [
    "# Defining Random Forest model with class weights class_weight={0: 0.2, 1: 0.8}\n",
    "# Choose the type of classifier\n",
    "rf_estimator_tuned = RandomForestClassifier(class_weight = {0: 0.55, 1: 0.45}, random_state = 1)\n",
    "\n",
    "# Grid of parameters to choose from\n",
    "params_rf = {  \n",
    "        \"n_estimators\": [100, 250, 500,650],\n",
    "        \"min_samples_leaf\": np.arange(1, 4, 1),\n",
    "        \"max_features\": [0.6, 0.7, 0.9, 'auto'],\n",
    "}\n",
    "\n",
    "\n",
    "# Type of scoring used to compare parameter combinations - recall score for class 1\n",
    "scorer = metrics.make_scorer(recall_score, pos_label = 1)\n",
    "\n",
    "# Run the grid search\n",
    "grid_obj = GridSearchCV(rf_estimator_tuned, params_rf, scoring = scorer, cv = 5)\n",
    "\n",
    "grid_obj = grid_obj.fit(x_train, y_train)\n",
    "\n",
    "# Set the classifier to the best combination of parameters\n",
    "rf_estimator_tuned = grid_obj.best_estimator_\n",
    "\n",
    "\n",
    "# Fitting Random Forest model\n",
    "rf_estimator_tuned.fit(x_train, y_train)\n",
    "\n"
   ]
  },
  {
   "cell_type": "code",
   "execution_count": 121,
   "id": "755ad1b6",
   "metadata": {},
   "outputs": [
    {
     "name": "stdout",
     "output_type": "stream",
     "text": [
      "              precision    recall  f1-score   support\n",
      "\n",
      "           0       1.00      1.00      1.00     29950\n",
      "           1       1.00      1.00      1.00     36115\n",
      "\n",
      "    accuracy                           1.00     66065\n",
      "   macro avg       1.00      1.00      1.00     66065\n",
      "weighted avg       1.00      1.00      1.00     66065\n",
      "\n"
     ]
    },
    {
     "data": {
      "image/png": "[encoded data removed]",
      "text/plain": [
       "<Figure size 576x360 with 2 Axes>"
      ]
     },
     "metadata": {},
     "output_type": "display_data"
    }
   ],
   "source": [
    "# Checking performance on the train data\n",
    "y_train_rf_tuned = rf_estimator_tuned.predict(x_train)\n",
    "metrics_score(y_train, y_train_rf_tuned)\n"
   ]
  },
  {
   "cell_type": "code",
   "execution_count": 122,
   "id": "e7c59149",
   "metadata": {},
   "outputs": [
    {
     "name": "stdout",
     "output_type": "stream",
     "text": [
      "              precision    recall  f1-score   support\n",
      "\n",
      "           0       0.94      0.95      0.95     12836\n",
      "           1       0.96      0.95      0.96     15478\n",
      "\n",
      "    accuracy                           0.95     28314\n",
      "   macro avg       0.95      0.95      0.95     28314\n",
      "weighted avg       0.95      0.95      0.95     28314\n",
      "\n"
     ]
    },
    {
     "data": {
      "image/png": "[encoded data removed]",
      "text/plain": [
       "<Figure size 576x360 with 2 Axes>"
      ]
     },
     "metadata": {},
     "output_type": "display_data"
    }
   ],
   "source": [
    "# Checking performance on the test data\n",
    "y_test_rf_tuned = rf_estimator_tuned.predict(x_test)\n",
    "metrics_score(y_test, y_test_rf_tuned)\n"
   ]
  },
  {
   "cell_type": "code",
   "execution_count": 133,
   "id": "67adec27",
   "metadata": {},
   "outputs": [],
   "source": [
    "test_y = rf_estimator_tuned.predict(test_df)\n",
    "test_y_df=pd.DataFrame(test_y, columns=['Overall_Experience']) \n",
    "test_id_df = pd.DataFrame(test_id)\n"
   ]
  },
  {
   "cell_type": "code",
   "execution_count": 136,
   "id": "7d1fa1fd",
   "metadata": {},
   "outputs": [],
   "source": [
    "merged1 = test_id_df.merge(test_y_df, left_index = True, right_index = True)"
   ]
  },
  {
   "cell_type": "code",
   "execution_count": 137,
   "id": "39582847",
   "metadata": {},
   "outputs": [
    {
     "data": {
      "text/html": [
       "<div>\n",
       "<style scoped>\n",
       "    .dataframe tbody tr th:only-of-type {\n",
       "        vertical-align: middle;\n",
       "    }\n",
       "\n",
       "    .dataframe tbody tr th {\n",
       "        vertical-align: top;\n",
       "    }\n",
       "\n",
       "    .dataframe thead th {\n",
       "        text-align: right;\n",
       "    }\n",
       "</style>\n",
       "<table border=\"1\" class=\"dataframe\">\n",
       "  <thead>\n",
       "    <tr style=\"text-align: right;\">\n",
       "      <th></th>\n",
       "      <th>ID</th>\n",
       "      <th>Overall_Experience</th>\n",
       "    </tr>\n",
       "  </thead>\n",
       "  <tbody>\n",
       "    <tr>\n",
       "      <th>0</th>\n",
       "      <td>99900001</td>\n",
       "      <td>1</td>\n",
       "    </tr>\n",
       "    <tr>\n",
       "      <th>1</th>\n",
       "      <td>99900002</td>\n",
       "      <td>1</td>\n",
       "    </tr>\n",
       "    <tr>\n",
       "      <th>2</th>\n",
       "      <td>99900003</td>\n",
       "      <td>1</td>\n",
       "    </tr>\n",
       "    <tr>\n",
       "      <th>3</th>\n",
       "      <td>99900004</td>\n",
       "      <td>0</td>\n",
       "    </tr>\n",
       "    <tr>\n",
       "      <th>4</th>\n",
       "      <td>99900005</td>\n",
       "      <td>1</td>\n",
       "    </tr>\n",
       "  </tbody>\n",
       "</table>\n",
       "</div>"
      ],
      "text/plain": [
       "         ID  Overall_Experience\n",
       "0  99900001                   1\n",
       "1  99900002                   1\n",
       "2  99900003                   1\n",
       "3  99900004                   0\n",
       "4  99900005                   1"
      ]
     },
     "execution_count": 137,
     "metadata": {},
     "output_type": "execute_result"
    }
   ],
   "source": [
    "merged1.head()"
   ]
  },
  {
   "cell_type": "code",
   "execution_count": 139,
   "id": "5f1873a2",
   "metadata": {},
   "outputs": [
    {
     "data": {
      "text/plain": [
       "1    19235\n",
       "0    16367\n",
       "Name: Overall_Experience, dtype: int64"
      ]
     },
     "execution_count": 139,
     "metadata": {},
     "output_type": "execute_result"
    }
   ],
   "source": [
    "merged1['Overall_Experience'].value_counts()"
   ]
  },
  {
   "cell_type": "code",
   "execution_count": 142,
   "id": "2ce5aa33",
   "metadata": {},
   "outputs": [],
   "source": [
    "merged1.to_csv('hackathon_sub_1.csv', index = False)"
   ]
  },
  {
   "cell_type": "code",
   "execution_count": 143,
   "id": "67570895",
   "metadata": {},
   "outputs": [
    {
     "data": {
      "text/plain": [
       "RandomForestClassifier(class_weight={0: 0.5, 1: 0.5}, max_features=0.6,\n",
       "                       n_estimators=500, random_state=1)"
      ]
     },
     "execution_count": 143,
     "metadata": {},
     "output_type": "execute_result"
    }
   ],
   "source": [
    "# Defining Random Forest model with class weights class_weight={0: 0.2, 1: 0.8}\n",
    "# Choose the type of classifier\n",
    "rf_estimator_tuned2 = RandomForestClassifier(class_weight = {0: 0.55, 1: 0.45}, random_state = 1)\n",
    "\n",
    "# Grid of parameters to choose from\n",
    "params_rf = {  \n",
    "        \"n_estimators\": [100, 250, 500,650],\n",
    "        \"min_samples_leaf\": np.arange(1, 4, 1),\n",
    "        \"max_features\": [0.6, 0.7, 0.9, 'auto'],\n",
    "}\n",
    "\n",
    "\n",
    "# Type of scoring used to compare parameter combinations - recall score for class 1\n",
    "scorer = metrics.make_scorer(recall_score, pos_label = 1)\n",
    "\n",
    "# Run the grid search\n",
    "grid_obj = GridSearchCV(rf_estimator_tuned, params_rf, scoring = scorer, cv = 5)\n",
    "\n",
    "grid_obj = grid_obj.fit(x_train, y_train)\n",
    "\n",
    "# Set the classifier to the best combination of parameters\n",
    "rf_estimator_tuned2 = grid_obj.best_estimator_\n",
    "\n",
    "\n",
    "# Fitting Random Forest model\n",
    "rf_estimator_tuned2.fit(x_train, y_train)\n",
    "\n"
   ]
  },
  {
   "cell_type": "code",
   "execution_count": 144,
   "id": "18e4e302",
   "metadata": {},
   "outputs": [
    {
     "name": "stdout",
     "output_type": "stream",
     "text": [
      "              precision    recall  f1-score   support\n",
      "\n",
      "           0       1.00      1.00      1.00     29950\n",
      "           1       1.00      1.00      1.00     36115\n",
      "\n",
      "    accuracy                           1.00     66065\n",
      "   macro avg       1.00      1.00      1.00     66065\n",
      "weighted avg       1.00      1.00      1.00     66065\n",
      "\n"
     ]
    },
    {
     "data": {
      "image/png": "[encoded data removed]",
      "text/plain": [
       "<Figure size 576x360 with 2 Axes>"
      ]
     },
     "metadata": {},
     "output_type": "display_data"
    }
   ],
   "source": [
    "# Checking performance on the training data\n",
    "y_train_rf_tuned2 = rf_estimator_tuned2.predict(x_train)\n",
    "metrics_score(y_train, y_train_rf_tuned2)"
   ]
  },
  {
   "cell_type": "code",
   "execution_count": 145,
   "id": "b4eab75a",
   "metadata": {},
   "outputs": [
    {
     "name": "stdout",
     "output_type": "stream",
     "text": [
      "              precision    recall  f1-score   support\n",
      "\n",
      "           0       0.94      0.95      0.95     12836\n",
      "           1       0.96      0.95      0.96     15478\n",
      "\n",
      "    accuracy                           0.95     28314\n",
      "   macro avg       0.95      0.95      0.95     28314\n",
      "weighted avg       0.95      0.95      0.95     28314\n",
      "\n"
     ]
    },
    {
     "data": {
      "image/png": "[encoded data removed]",
      "text/plain": [
       "<Figure size 576x360 with 2 Axes>"
      ]
     },
     "metadata": {},
     "output_type": "display_data"
    }
   ],
   "source": [
    "# Checking performace on test dataset\n",
    "y_test_rf_tuned2 = rf_estimator_tuned2.predict(x_test)\n",
    "metrics_score(y_test, y_test_rf_tuned2)"
   ]
  },
  {
   "cell_type": "code",
   "execution_count": 146,
   "id": "0e630d92",
   "metadata": {},
   "outputs": [],
   "source": [
    "test_y2 = rf_estimator_tuned2.predict(test_df)\n",
    "test_y_df2=pd.DataFrame(test_y2, columns=['Overall_Experience']) \n",
    "test_id_df2 = pd.DataFrame(test_id)\n"
   ]
  },
  {
   "cell_type": "code",
   "execution_count": 147,
   "id": "dbee5a95",
   "metadata": {},
   "outputs": [],
   "source": [
    "merged2 = test_id_df2.merge(test_y_df2, left_index = True, right_index = True)"
   ]
  },
  {
   "cell_type": "code",
   "execution_count": 148,
   "id": "f9d19fac",
   "metadata": {},
   "outputs": [],
   "source": [
    "merged2.to_csv('hackathon_sub_2.csv', index = False)"
   ]
  },
  {
   "cell_type": "code",
   "execution_count": 25,
   "id": "920c1fb4",
   "metadata": {},
   "outputs": [
    {
     "data": {
      "text/plain": [
       "RandomForestClassifier(class_weight={0: 0.55, 1: 0.45}, max_features=0.5,\n",
       "                       n_estimators=650, random_state=1)"
      ]
     },
     "execution_count": 25,
     "metadata": {},
     "output_type": "execute_result"
    }
   ],
   "source": [
    "# Defining Random Forest model with class weights class_weight={0: 0.2, 1: 0.8}\n",
    "# Choose the type of classifier\n",
    "rf_estimator_tuned3 = RandomForestClassifier(class_weight = {0: 0.55, 1: 0.45}, random_state = 1)\n",
    "\n",
    "# Grid of parameters to choose from\n",
    "params_rf = {  \n",
    "        \"n_estimators\": [650],\n",
    "        \"min_samples_leaf\": np.arange(1, 6, 1),\n",
    "        \"max_features\": [0.5, 0.6, 0.7],\n",
    "}\n",
    "\n",
    "\n",
    "# Type of scoring used to compare parameter combinations - recall score for class 1\n",
    "scorer = metrics.make_scorer(recall_score, pos_label = 1)\n",
    "\n",
    "# Run the grid search\n",
    "grid_obj = GridSearchCV(rf_estimator_tuned3, params_rf, scoring = scorer, cv = 5, n_jobs = -1)\n",
    "\n",
    "grid_obj = grid_obj.fit(x_train, y_train)\n",
    "\n",
    "# Set the classifier to the best combination of parameters\n",
    "rf_estimator_tuned3 = grid_obj.best_estimator_\n",
    "\n",
    "\n",
    "# Fitting Random Forest model\n",
    "rf_estimator_tuned3.fit(x_train, y_train)\n"
   ]
  },
  {
   "cell_type": "code",
   "execution_count": 26,
   "id": "e5c3ef07",
   "metadata": {},
   "outputs": [
    {
     "name": "stdout",
     "output_type": "stream",
     "text": [
      "              precision    recall  f1-score   support\n",
      "\n",
      "           0       0.94      0.95      0.95     12836\n",
      "           1       0.96      0.95      0.96     15478\n",
      "\n",
      "    accuracy                           0.95     28314\n",
      "   macro avg       0.95      0.95      0.95     28314\n",
      "weighted avg       0.95      0.95      0.95     28314\n",
      "\n"
     ]
    },
    {
     "data": {
      "image/png": "[encoded data removed]",
      "text/plain": [
       "<Figure size 576x360 with 2 Axes>"
      ]
     },
     "metadata": {},
     "output_type": "display_data"
    }
   ],
   "source": [
    "# Checking performace on test dataset\n",
    "y_test_rf_tuned3 = rf_estimator_tuned3.predict(x_test)\n",
    "metrics_score(y_test, y_test_rf_tuned3)"
   ]
  },
  {
   "cell_type": "code",
   "execution_count": null,
   "id": "587dec29",
   "metadata": {},
   "outputs": [],
   "source": []
  }
 ],
 "metadata": {
  "kernelspec": {
   "display_name": "Python 3 (ipykernel)",
   "language": "python",
   "name": "python3"
  },
  "language_info": {
   "codemirror_mode": {
    "name": "ipython",
    "version": 3
   },
   "file_extension": ".py",
   "mimetype": "text/x-python",
   "name": "python",
   "nbconvert_exporter": "python",
   "pygments_lexer": "ipython3",
   "version": "3.7.13"
  }
 },
 "nbformat": 4,
 "nbformat_minor": 5
}
